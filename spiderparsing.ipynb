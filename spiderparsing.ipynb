{
  "nbformat": 4,
  "nbformat_minor": 0,
  "metadata": {
    "colab": {
      "provenance": [],
      "authorship_tag": "ABX9TyNPTnA3O86tjIOa+4+5q/zk",
      "include_colab_link": true
    },
    "kernelspec": {
      "name": "python3",
      "display_name": "Python 3"
    },
    "language_info": {
      "name": "python"
    }
  },
  "cells": [
    {
      "cell_type": "markdown",
      "metadata": {
        "id": "view-in-github",
        "colab_type": "text"
      },
      "source": [
        "<a href=\"https://colab.research.google.com/github/Dalan231/RefreshThePageToPlay/blob/main/spiderparsing.ipynb\" target=\"_parent\"><img src=\"https://colab.research.google.com/assets/colab-badge.svg\" alt=\"Open In Colab\"/></a>"
      ]
    },
    {
      "cell_type": "code",
      "execution_count": 1,
      "metadata": {
        "colab": {
          "base_uri": "https://localhost:8080/"
        },
        "id": "l-Ds-_U5LSvs",
        "outputId": "0384ae7a-7825-4a2a-abc6-5b9e3ef52ab2"
      },
      "outputs": [
        {
          "output_type": "stream",
          "name": "stdout",
          "text": [
            "Cloning into 'spider'...\n",
            "remote: Enumerating objects: 383, done.\u001b[K\n",
            "remote: Counting objects: 100% (27/27), done.\u001b[K\n",
            "remote: Compressing objects: 100% (14/14), done.\u001b[K\n",
            "remote: Total 383 (delta 17), reused 13 (delta 13), pack-reused 356\u001b[K\n",
            "Receiving objects: 100% (383/383), 44.93 MiB | 23.33 MiB/s, done.\n",
            "Resolving deltas: 100% (111/111), done.\n"
          ]
        }
      ],
      "source": [
        "!git clone https://github.com/taoyds/spider.git"
      ]
    },
    {
      "cell_type": "code",
      "source": [
        "from google.colab import drive\n",
        "drive.mount('/content/drive')\n"
      ],
      "metadata": {
        "colab": {
          "base_uri": "https://localhost:8080/"
        },
        "id": "gY9C31GgTXb4",
        "outputId": "f2d42ac4-094c-44ee-b704-aaf0d5b9b9d0"
      },
      "execution_count": 2,
      "outputs": [
        {
          "output_type": "stream",
          "name": "stdout",
          "text": [
            "Mounted at /content/drive\n"
          ]
        }
      ]
    },
    {
      "cell_type": "code",
      "source": [
        "import zipfile\n",
        "import os\n",
        "import json"
      ],
      "metadata": {
        "id": "iJnlzj-zTZdn"
      },
      "execution_count": 60,
      "outputs": []
    },
    {
      "cell_type": "code",
      "source": [
        "zip_file_path = '/content/drive/MyDrive/spider.zip'  # Replace with your zip file path\n",
        "\n",
        "with zipfile.ZipFile(zip_file_path, 'r') as zip_ref:\n",
        "    zip_ref.extractall('/content/spider/data')  # Specify the destination directory to extract the files"
      ],
      "metadata": {
        "id": "gH4qBy2hgx-E"
      },
      "execution_count": null,
      "outputs": []
    },
    {
      "cell_type": "code",
      "source": [
        "!ls"
      ],
      "metadata": {
        "colab": {
          "base_uri": "https://localhost:8080/"
        },
        "id": "ySplq-d2LXLX",
        "outputId": "1c8d0411-4e69-40a7-e8a3-ddb5e77f53f7"
      },
      "execution_count": 5,
      "outputs": [
        {
          "output_type": "stream",
          "name": "stdout",
          "text": [
            "drive  sample_data  spider\n"
          ]
        }
      ]
    },
    {
      "cell_type": "code",
      "source": [],
      "metadata": {
        "id": "oLpARn0NLgyk"
      },
      "execution_count": 6,
      "outputs": []
    },
    {
      "cell_type": "code",
      "source": [
        "os.getcwd()"
      ],
      "metadata": {
        "colab": {
          "base_uri": "https://localhost:8080/",
          "height": 36
        },
        "id": "J3Scw4j4MA-1",
        "outputId": "917ae657-c938-44da-b795-abeb6b56a479"
      },
      "execution_count": 7,
      "outputs": [
        {
          "output_type": "execute_result",
          "data": {
            "text/plain": [
              "'/content'"
            ],
            "application/vnd.google.colaboratory.intrinsic+json": {
              "type": "string"
            }
          },
          "metadata": {},
          "execution_count": 7
        }
      ]
    },
    {
      "cell_type": "code",
      "source": [
        "os.chdir(\"/content/spider\")"
      ],
      "metadata": {
        "id": "rnajGlOTMCyc"
      },
      "execution_count": 8,
      "outputs": []
    },
    {
      "cell_type": "code",
      "source": [
        "!ls"
      ],
      "metadata": {
        "colab": {
          "base_uri": "https://localhost:8080/"
        },
        "id": "GctcE4_3MII1",
        "outputId": "43903b9c-e8bd-418f-885b-832741dd9518"
      },
      "execution_count": 18,
      "outputs": [
        {
          "output_type": "stream",
          "name": "stdout",
          "text": [
            "baselines  evaluation_examples\tpreprocess\tREADME.md\n",
            "data\t   evaluation.py\tprocess_sql.py\n"
          ]
        }
      ]
    },
    {
      "cell_type": "code",
      "source": [
        "# Read the content of the file\n",
        "with open('preprocess/get_tables.py', 'r') as file:\n",
        "    content = file.read()\n",
        "\n",
        "# Convert tabs to spaces using expandtabs()\n",
        "converted_content = content.expandtabs()\n",
        "\n",
        "# Write the converted content back to the file\n",
        "with open('preprocess/get_tablesV2.py', 'w') as file:\n",
        "    file.write(converted_content)"
      ],
      "metadata": {
        "id": "6CM-vC_fWyjF"
      },
      "execution_count": 14,
      "outputs": []
    },
    {
      "cell_type": "code",
      "source": [
        "!python preprocess/get_tablesV2.py /content/spider/data/spider/database output.json /content/spider/data/spider/tables.json"
      ],
      "metadata": {
        "id": "xNYM55WZMJrE",
        "colab": {
          "base_uri": "https://localhost:8080/"
        },
        "outputId": "c5cf4dff-7499-41bc-856e-30560148e63a"
      },
      "execution_count": 29,
      "outputs": [
        {
          "output_type": "stream",
          "name": "stdout",
          "text": [
            "precessed file num:  166\n",
            "\n",
            "reading new db:  wta_1\n",
            "\n",
            "reading new db:  performance_attendance\n",
            "\n",
            "reading new db:  cre_Theme_park\n",
            "\n",
            "reading new db:  college_1\n",
            "\n",
            "reading new db:  scholar\n",
            "\n",
            "reading new db:  perpetrator\n",
            "\n",
            "reading new db:  manufacturer\n",
            "\n",
            "reading new db:  orchestra\n",
            "\n",
            "reading new db:  insurance_and_eClaims\n",
            "\n",
            "reading new db:  car_1\n",
            "\n",
            "reading new db:  phone_market\n",
            "\n",
            "reading new db:  cre_Drama_Workshop_Groups\n",
            "\n",
            "reading new db:  game_injury\n",
            "\n",
            "reading new db:  sports_competition\n",
            "\n",
            "reading new db:  match_season\n",
            "\n",
            "reading new db:  ship_1\n",
            "\n",
            "reading new db:  poker_player\n",
            "\n",
            "reading new db:  local_govt_in_alabama\n",
            "\n",
            "reading new db:  film_rank\n",
            "\n",
            "reading new db:  browser_web\n",
            "\n",
            "reading new db:  network_2\n",
            "\n",
            "reading new db:  tracking_share_transactions\n",
            "\n",
            "reading new db:  customers_and_invoices\n",
            "\n",
            "reading new db:  local_govt_and_lot\n",
            "\n",
            "reading new db:  news_report\n",
            "\n",
            "reading new db:  activity_1\n",
            "\n",
            "reading new db:  inn_1\n",
            "\n",
            "reading new db:  candidate_poll\n",
            "\n",
            "reading new db:  real_estate_properties\n",
            "\n",
            "reading new db:  allergy_1\n",
            "\n",
            "reading new db:  products_gen_characteristics\n",
            "\n",
            "reading new db:  hospital_1\n",
            "\n",
            "reading new db:  student_assessment\n",
            "\n",
            "reading new db:  restaurant_1\n",
            "\n",
            "reading new db:  battle_death\n",
            "\n",
            "reading new db:  tracking_grants_for_research\n",
            "\n",
            "reading new db:  roller_coaster\n",
            "\n",
            "reading new db:  restaurants\n",
            "\n",
            "reading new db:  concert_singer\n",
            "\n",
            "reading new db:  wrestler\n",
            "\n",
            "reading new db:  yelp\n",
            "\n",
            "reading new db:  wine_1\n",
            "\n",
            "reading new db:  swimming\n",
            "\n",
            "reading new db:  train_station\n",
            "\n",
            "reading new db:  customers_card_transactions\n",
            "\n",
            "reading new db:  cre_Docs_and_Epenses\n",
            "\n",
            "reading new db:  world_1\n",
            "\n",
            "reading new db:  college_2\n",
            "\n",
            "reading new db:  academic\n",
            "\n",
            "reading new db:  customers_campaigns_ecommerce\n",
            "\n",
            "reading new db:  employee_hire_evaluation\n",
            "\n",
            "reading new db:  flight_4\n",
            "\n",
            "reading new db:  ship_mission\n",
            "\n",
            "reading new db:  store_product\n",
            "\n",
            "reading new db:  program_share\n",
            "\n",
            "reading new db:  entertainment_awards\n",
            "\n",
            "reading new db:  book_2\n",
            "\n",
            "reading new db:  insurance_fnol\n",
            "\n",
            "reading new db:  phone_1\n",
            "\n",
            "reading new db:  assets_maintenance\n",
            "\n",
            "reading new db:  baseball_1\n",
            "\n",
            "reading new db:  apartment_rentals\n",
            "\n",
            "reading new db:  cre_Doc_Tracking_DB\n",
            "\n",
            "reading new db:  singer\n",
            "\n",
            "reading new db:  music_2\n",
            "\n",
            "reading new db:  station_weather\n",
            "\n",
            "reading new db:  dog_kennels\n",
            "\n",
            "reading new db:  cre_Doc_Control_Systems\n",
            "\n",
            "reading new db:  company_1\n",
            "\n",
            "reading new db:  museum_visit\n",
            "\n",
            "reading new db:  hr_1\n",
            "\n",
            "reading new db:  culture_company\n",
            "\n",
            "reading new db:  flight_company\n",
            "\n",
            "reading new db:  manufactory_1\n",
            "\n",
            "reading new db:  riding_club\n",
            "\n",
            "reading new db:  csu_1\n",
            "\n",
            "reading new db:  bike_1\n",
            "\n",
            "reading new db:  company_office\n",
            "\n",
            "reading new db:  tracking_orders\n",
            "\n",
            "reading new db:  decoration_competition\n",
            "\n",
            "reading new db:  school_bus\n",
            "\n",
            "reading new db:  journal_committee\n",
            "\n",
            "reading new db:  customers_and_products_contacts\n",
            "\n",
            "reading new db:  store_1\n",
            "\n",
            "reading new db:  cre_Doc_Template_Mgt\n",
            "\n",
            "reading new db:  department_management\n",
            "\n",
            "reading new db:  twitter_1\n",
            "\n",
            "reading new db:  customer_complaints\n",
            "\n",
            "reading new db:  city_record\n",
            "\n",
            "reading new db:  election\n",
            "\n",
            "reading new db:  small_bank_1\n",
            "\n",
            "reading new db:  school_finance\n",
            "\n",
            "reading new db:  pilot_record\n",
            "\n",
            "reading new db:  debate\n",
            "\n",
            "reading new db:  icfp_1\n",
            "\n",
            "reading new db:  tracking_software_problems\n",
            "\n",
            "reading new db:  university_basketball\n",
            "\n",
            "reading new db:  music_1\n",
            "\n",
            "reading new db:  county_public_safety\n",
            "\n",
            "reading new db:  machine_repair\n",
            "\n",
            "reading new db:  network_1\n",
            "\n",
            "reading new db:  behavior_monitoring\n",
            "\n",
            "reading new db:  e_government\n",
            "\n",
            "reading new db:  document_management\n",
            "\n",
            "reading new db:  medicine_enzyme_interaction\n",
            "\n",
            "reading new db:  shop_membership\n",
            "\n",
            "reading new db:  gymnast\n",
            "\n",
            "reading new db:  driving_school\n",
            "\n",
            "reading new db:  school_player\n",
            "\n",
            "reading new db:  department_store\n",
            "\n",
            "reading new db:  farm\n",
            "\n",
            "reading new db:  party_host\n",
            "\n",
            "reading new db:  voter_2\n",
            "\n",
            "reading new db:  cinema\n",
            "\n",
            "reading new db:  formula_1\n",
            "\n",
            "reading new db:  company_employee\n",
            "\n",
            "reading new db:  scientist_1\n",
            "\n",
            "reading new db:  local_govt_mdm\n",
            "\n",
            "reading new db:  solvency_ii\n",
            "\n",
            "reading new db:  chinook_1\n",
            "\n",
            "reading new db:  tvshow\n",
            "\n",
            "reading new db:  mountain_photos\n",
            "\n",
            "reading new db:  customers_and_addresses\n",
            "\n",
            "reading new db:  dorm_1\n",
            "\n",
            "reading new db:  railway\n",
            "\n",
            "reading new db:  epinions_1\n",
            "\n",
            "reading new db:  music_4\n",
            "\n",
            "reading new db:  protein_institute\n",
            "\n",
            "reading new db:  game_1\n",
            "\n",
            "reading new db:  imdb\n",
            "\n",
            "reading new db:  student_transcripts_tracking\n",
            "\n",
            "reading new db:  product_catalog\n",
            "\n",
            "reading new db:  race_track\n",
            "\n",
            "reading new db:  flight_2\n",
            "\n",
            "reading new db:  college_3\n",
            "\n",
            "reading new db:  voter_1\n",
            "\n",
            "reading new db:  architecture\n",
            "\n",
            "reading new db:  loan_1\n",
            "\n",
            "reading new db:  body_builder\n",
            "\n",
            "reading new db:  aircraft\n",
            "\n",
            "reading new db:  club_1\n",
            "\n",
            "reading new db:  workshop_paper\n",
            "\n",
            "reading new db:  musical\n",
            "\n",
            "reading new db:  customer_deliveries\n",
            "\n",
            "reading new db:  soccer_1\n",
            "\n",
            "reading new db:  theme_gallery\n",
            "\n",
            "reading new db:  party_people\n",
            "\n",
            "reading new db:  wedding\n",
            "\n",
            "reading new db:  storm_record\n",
            "\n",
            "reading new db:  election_representative\n",
            "\n",
            "reading new db:  e_learning\n",
            "\n",
            "reading new db:  climbing\n",
            "\n",
            "reading new db:  course_teach\n",
            "\n",
            "reading new db:  device\n",
            "\n",
            "reading new db:  soccer_2\n",
            "\n",
            "reading new db:  coffee_shop\n",
            "\n",
            "reading new db:  entrepreneur\n",
            "\n",
            "reading new db:  products_for_hire\n",
            "\n",
            "reading new db:  insurance_policies\n",
            "\n",
            "reading new db:  pets_1\n",
            "\n",
            "reading new db:  movie_1\n",
            "\n",
            "reading new db:  geo\n",
            "\n",
            "reading new db:  sakila_1\n",
            "\n",
            "reading new db:  student_1\n",
            "\n",
            "reading new db:  gas_company\n",
            "\n",
            "reading new db:  flight_1\n",
            "final db num:  166\n"
          ]
        }
      ]
    },
    {
      "cell_type": "code",
      "source": [],
      "metadata": {
        "id": "BExXpJKRbAQb"
      },
      "execution_count": 44,
      "outputs": []
    },
    {
      "cell_type": "code",
      "source": [
        "fpath=\"/content/spider/output.json\"\n",
        "with open(fpath) as f:\n",
        "  data = json.load(f)\n",
        "print(type(data))\n",
        "print(type(data[0])) m                                                                                                                                                                                           +\n",
        "print(data[0][\"column_names\"])\n",
        "print(type(data[0][\"column_names\"]))\n",
        "print(data[0][\"column_names\"][1])\n",
        "print(data[0][\"column_names\"][1][1])"
      ],
      "metadata": {
        "colab": {
          "base_uri": "https://localhost:8080/"
        },
        "id": "hHQq7rmJbB3H",
        "outputId": "90aa9680-13e5-4c78-9c69-a93eeda2810c"
      },
      "execution_count": 59,
      "outputs": [
        {
          "output_type": "stream",
          "name": "stdout",
          "text": [
            "<class 'list'>\n",
            "<class 'dict'>\n",
            "[[-1, '*'], [0, 'player id'], [0, 'first name'], [0, 'last name'], [0, 'hand'], [0, 'birth date'], [0, 'country code'], [1, 'best of'], [1, 'draw size'], [1, 'loser age'], [1, 'loser entry'], [1, 'loser hand'], [1, 'loser ht'], [1, 'loser id'], [1, 'loser ioc'], [1, 'loser name'], [1, 'loser rank'], [1, 'loser rank points'], [1, 'loser seed'], [1, 'match num'], [1, 'minutes'], [1, 'round'], [1, 'score'], [1, 'surface'], [1, 'tourney date'], [1, 'tourney id'], [1, 'tourney level'], [1, 'tourney name'], [1, 'winner age'], [1, 'winner entry'], [1, 'winner hand'], [1, 'winner ht'], [1, 'winner id'], [1, 'winner ioc'], [1, 'winner name'], [1, 'winner rank'], [1, 'winner rank points'], [1, 'winner seed'], [1, 'year'], [2, 'ranking date'], [2, 'ranking'], [2, 'player id'], [2, 'ranking points'], [2, 'tours']]\n",
            "<class 'list'>\n",
            "[0, 'player id']\n",
            "player id\n"
          ]
        }
      ]
    },
    {
      "cell_type": "code",
      "source": [
        "#list out table nodes\n",
        "#find the highest level table\n",
        "#append leaf node and link link note to table node but name of link node??== tablenode??\n",
        "#\n",
        "\n",
        "\n",
        "table_node\n",
        "\n",
        "link_node\n",
        "leaf_node\n",
        "edge_list\n"
      ],
      "metadata": {
        "id": "XPvbcgyGfV9l"
      },
      "execution_count": null,
      "outputs": []
    },
    {
      "cell_type": "code",
      "source": [],
      "metadata": {
        "id": "pgpc4KfSbh2K"
      },
      "execution_count": 60,
      "outputs": []
    },
    {
      "cell_type": "code",
      "source": [],
      "metadata": {
        "id": "P9UT-_O2ahjc"
      },
      "execution_count": 48,
      "outputs": []
    },
    {
      "cell_type": "code",
      "source": [],
      "metadata": {
        "id": "ADJh4oC8bClB"
      },
      "execution_count": 48,
      "outputs": []
    },
    {
      "cell_type": "code",
      "source": [],
      "metadata": {
        "id": "U_fcnfpPbHc-"
      },
      "execution_count": 48,
      "outputs": []
    },
    {
      "cell_type": "code",
      "source": [],
      "metadata": {
        "id": "pUa3c02yc6Jo"
      },
      "execution_count": 48,
      "outputs": []
    },
    {
      "cell_type": "code",
      "source": [],
      "metadata": {
        "id": "dVB-nXuOd3BF"
      },
      "execution_count": 12,
      "outputs": []
    },
    {
      "cell_type": "code",
      "source": [],
      "metadata": {
        "colab": {
          "base_uri": "https://localhost:8080/"
        },
        "id": "FSaVcgOwWDU4",
        "outputId": "2ae5f571-9ebc-410f-b3e4-cfaedc2059a8"
      },
      "execution_count": 13,
      "outputs": [
        {
          "output_type": "stream",
          "name": "stdout",
          "text": [
            "hello\n"
          ]
        },
        {
          "output_type": "execute_result",
          "data": {
            "text/plain": [
              "0"
            ]
          },
          "metadata": {},
          "execution_count": 13
        }
      ]
    },
    {
      "cell_type": "code",
      "source": [],
      "metadata": {
        "id": "qXxyOgeeWEwW"
      },
      "execution_count": null,
      "outputs": []
    }
  ]
}